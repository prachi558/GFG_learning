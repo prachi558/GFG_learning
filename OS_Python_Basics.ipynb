{
 "cells": [
  {
   "cell_type": "code",
   "execution_count": 2,
   "id": "1e6229a7",
   "metadata": {},
   "outputs": [],
   "source": [
    "\n",
    "import os"
   ]
  },
  {
   "cell_type": "markdown",
   "id": "c9a46e15",
   "metadata": {},
   "source": [
    "to get current working directory"
   ]
  },
  {
   "cell_type": "code",
   "execution_count": 4,
   "id": "a99a4629",
   "metadata": {},
   "outputs": [
    {
     "name": "stdout",
     "output_type": "stream",
     "text": [
      "C:\\Users\\SNEHA\\GFG_DS\n"
     ]
    }
   ],
   "source": [
    "print(os.getcwd())"
   ]
  },
  {
   "cell_type": "markdown",
   "id": "5fa0ce02",
   "metadata": {},
   "source": [
    "to come out of directory"
   ]
  },
  {
   "cell_type": "code",
   "execution_count": 8,
   "id": "e8a228b1",
   "metadata": {},
   "outputs": [
    {
     "name": "stdout",
     "output_type": "stream",
     "text": [
      "None\n"
     ]
    }
   ],
   "source": [
    "print(os.chdir(\"../\"))"
   ]
  },
  {
   "cell_type": "code",
   "execution_count": 12,
   "id": "d13ed765",
   "metadata": {},
   "outputs": [
    {
     "name": "stdout",
     "output_type": "stream",
     "text": [
      "C:\\Users\\SNEHA\n"
     ]
    }
   ],
   "source": [
    "print(os.getcwd())"
   ]
  },
  {
   "cell_type": "markdown",
   "id": "2e43a440",
   "metadata": {},
   "source": [
    "to change directory"
   ]
  },
  {
   "cell_type": "code",
   "execution_count": 10,
   "id": "3cfe25fe",
   "metadata": {},
   "outputs": [
    {
     "name": "stdout",
     "output_type": "stream",
     "text": [
      "None\n"
     ]
    }
   ],
   "source": [
    "print(os.chdir(\"SNEHA\"))"
   ]
  },
  {
   "cell_type": "code",
   "execution_count": 11,
   "id": "2057d9db",
   "metadata": {},
   "outputs": [
    {
     "name": "stdout",
     "output_type": "stream",
     "text": [
      "C:\\Users\\SNEHA\n"
     ]
    }
   ],
   "source": [
    "print(os.getcwd())"
   ]
  },
  {
   "cell_type": "markdown",
   "id": "9bb3fa0f",
   "metadata": {},
   "source": [
    "to make new directory"
   ]
  },
  {
   "cell_type": "code",
   "execution_count": 14,
   "id": "3c90c6e3",
   "metadata": {},
   "outputs": [],
   "source": [
    "os.mkdir(\"Test_OS\")"
   ]
  },
  {
   "cell_type": "code",
   "execution_count": 15,
   "id": "979df100",
   "metadata": {},
   "outputs": [],
   "source": [
    "os.chdir(\"Test_OS\")"
   ]
  },
  {
   "cell_type": "code",
   "execution_count": 16,
   "id": "c3c593d2",
   "metadata": {},
   "outputs": [
    {
     "name": "stdout",
     "output_type": "stream",
     "text": [
      "C:\\Users\\SNEHA\\Test_OS\n"
     ]
    }
   ],
   "source": [
    "print(os.getcwd())"
   ]
  },
  {
   "cell_type": "code",
   "execution_count": 17,
   "id": "a07e3ec5",
   "metadata": {},
   "outputs": [],
   "source": [
    "os.chdir(\"../\")"
   ]
  },
  {
   "cell_type": "code",
   "execution_count": 18,
   "id": "fafa7d26",
   "metadata": {},
   "outputs": [
    {
     "name": "stdout",
     "output_type": "stream",
     "text": [
      "C:\\Users\\SNEHA\n"
     ]
    }
   ],
   "source": [
    "print(os.getcwd())"
   ]
  },
  {
   "cell_type": "markdown",
   "id": "c4ecf996",
   "metadata": {},
   "source": [
    "to join 2 paths"
   ]
  },
  {
   "cell_type": "code",
   "execution_count": 5,
   "id": "6dd9f188",
   "metadata": {},
   "outputs": [
    {
     "data": {
      "text/plain": [
       "'C:\\\\Users\\\\SNEHA\\\\Test_OS'"
      ]
     },
     "execution_count": 5,
     "metadata": {},
     "output_type": "execute_result"
    }
   ],
   "source": [
    "path = os.path.join(\"C:\\\\Users\\\\SNEHA\",\"Test_OS\")\n",
    "path"
   ]
  },
  {
   "cell_type": "code",
   "execution_count": 6,
   "id": "3595670a",
   "metadata": {},
   "outputs": [],
   "source": [
    "os.chdir(path)"
   ]
  },
  {
   "cell_type": "code",
   "execution_count": 7,
   "id": "350f5b3f",
   "metadata": {},
   "outputs": [
    {
     "data": {
      "text/plain": [
       "'C:\\\\Users\\\\SNEHA\\\\Test_OS'"
      ]
     },
     "execution_count": 7,
     "metadata": {},
     "output_type": "execute_result"
    }
   ],
   "source": [
    "os.getcwd()"
   ]
  },
  {
   "cell_type": "markdown",
   "id": "8dbffb31",
   "metadata": {},
   "source": [
    "Removing a directory"
   ]
  },
  {
   "cell_type": "code",
   "execution_count": 10,
   "id": "515f5804",
   "metadata": {},
   "outputs": [],
   "source": [
    "os.chdir(\"../\")"
   ]
  },
  {
   "cell_type": "code",
   "execution_count": 12,
   "id": "a1ed8836",
   "metadata": {},
   "outputs": [],
   "source": [
    "os.chdir(\"SNEHA\")"
   ]
  },
  {
   "cell_type": "code",
   "execution_count": 14,
   "id": "ad351247",
   "metadata": {},
   "outputs": [
    {
     "data": {
      "text/plain": [
       "'C:\\\\Users\\\\SNEHA'"
      ]
     },
     "execution_count": 14,
     "metadata": {},
     "output_type": "execute_result"
    }
   ],
   "source": [
    "os.getcwd()"
   ]
  },
  {
   "cell_type": "code",
   "execution_count": 15,
   "id": "470c02bf",
   "metadata": {},
   "outputs": [],
   "source": [
    "os.rmdir(\"Test_OS\")"
   ]
  },
  {
   "cell_type": "markdown",
   "id": "68debb59",
   "metadata": {},
   "source": [
    "To list all that is in directory"
   ]
  },
  {
   "cell_type": "code",
   "execution_count": 17,
   "id": "df05e151",
   "metadata": {},
   "outputs": [
    {
     "data": {
      "text/plain": [
       "['.conda',\n",
       " '.condarc',\n",
       " '.continuum',\n",
       " '.ipynb_checkpoints',\n",
       " '.ipython',\n",
       " '.jupyter',\n",
       " 'anaconda3',\n",
       " 'AppData',\n",
       " 'Application Data',\n",
       " 'Contacts',\n",
       " 'Cookies',\n",
       " 'Documents',\n",
       " 'Downloads',\n",
       " 'Favorites',\n",
       " 'GFG_DS',\n",
       " 'install.log',\n",
       " 'IntelGraphicsProfiles',\n",
       " 'Links',\n",
       " 'Local Settings',\n",
       " 'Music',\n",
       " 'My Documents',\n",
       " 'NetHood',\n",
       " 'NTUSER.DAT',\n",
       " 'ntuser.dat.LOG1',\n",
       " 'ntuser.dat.LOG2',\n",
       " 'NTUSER.DAT{eaf66a4e-0506-11ee-ada9-a825c1c36409}.TM.blf',\n",
       " 'NTUSER.DAT{eaf66a4e-0506-11ee-ada9-a825c1c36409}.TMContainer00000000000000000001.regtrans-ms',\n",
       " 'NTUSER.DAT{eaf66a4e-0506-11ee-ada9-a825c1c36409}.TMContainer00000000000000000002.regtrans-ms',\n",
       " 'ntuser.ini',\n",
       " 'OneDrive',\n",
       " 'PrintHood',\n",
       " 'Recent',\n",
       " 'Saved Games',\n",
       " 'ScStore',\n",
       " 'Searches',\n",
       " 'SendTo',\n",
       " 'Start Menu',\n",
       " 'Templates',\n",
       " 'test.py',\n",
       " 'Videos']"
      ]
     },
     "execution_count": 17,
     "metadata": {},
     "output_type": "execute_result"
    }
   ],
   "source": [
    "os.listdir()"
   ]
  },
  {
   "cell_type": "markdown",
   "id": "53f5effb",
   "metadata": {},
   "source": [
    "renaming a file"
   ]
  },
  {
   "cell_type": "code",
   "execution_count": 18,
   "id": "33afc1f3",
   "metadata": {},
   "outputs": [],
   "source": [
    "os.chdir(\"GFG_DS\")"
   ]
  },
  {
   "cell_type": "code",
   "execution_count": 20,
   "id": "1fb4511f",
   "metadata": {},
   "outputs": [],
   "source": [
    "os.rename(\"CLI Commands.txt\", \"Command_Line_Interface_cmds.txt\")"
   ]
  },
  {
   "cell_type": "markdown",
   "id": "b3606b02",
   "metadata": {},
   "source": [
    "removing a file"
   ]
  },
  {
   "cell_type": "code",
   "execution_count": 26,
   "id": "daeef004",
   "metadata": {},
   "outputs": [],
   "source": [
    "#os.getcwd()\n",
    "os.remove(\"TEXT.txt\")"
   ]
  },
  {
   "cell_type": "markdown",
   "id": "92a3ab08",
   "metadata": {},
   "source": [
    "getting size in bytes of a particular file"
   ]
  },
  {
   "cell_type": "code",
   "execution_count": 28,
   "id": "bd54e850",
   "metadata": {},
   "outputs": [
    {
     "data": {
      "text/plain": [
       "45"
      ]
     },
     "execution_count": 28,
     "metadata": {},
     "output_type": "execute_result"
    }
   ],
   "source": [
    "os.path.getsize(\"Data.txt\")"
   ]
  },
  {
   "cell_type": "markdown",
   "id": "6dad8d0b",
   "metadata": {},
   "source": [
    "checking if a path exists"
   ]
  },
  {
   "cell_type": "code",
   "execution_count": 29,
   "id": "a9cf597f",
   "metadata": {},
   "outputs": [
    {
     "name": "stdout",
     "output_type": "stream",
     "text": [
      "True\n",
      "False\n"
     ]
    }
   ],
   "source": [
    "print(os.path.exists(\"Data.txt\"))\n",
    "print(os.path.exists(\"TEXT.txt\"))"
   ]
  },
  {
   "cell_type": "markdown",
   "id": "67ae7fb8",
   "metadata": {},
   "source": [
    "Bulk text file reading"
   ]
  },
  {
   "cell_type": "code",
   "execution_count": 41,
   "id": "edc41618",
   "metadata": {},
   "outputs": [
    {
     "data": {
      "text/plain": [
       "3"
      ]
     },
     "execution_count": 41,
     "metadata": {},
     "output_type": "execute_result"
    }
   ],
   "source": [
    "#print(os.listdir())\n",
    "#os.chdir(\"Bulk_text_read_files\")\n",
    "len(os.listdir())"
   ]
  },
  {
   "cell_type": "code",
   "execution_count": 51,
   "id": "437caff2",
   "metadata": {},
   "outputs": [],
   "source": [
    "l = os.listdir()"
   ]
  },
  {
   "cell_type": "code",
   "execution_count": 52,
   "id": "5b969756",
   "metadata": {},
   "outputs": [
    {
     "name": "stdout",
     "output_type": "stream",
     "text": [
      "This is file 1\n",
      "This is file 2\n",
      "This is file 3\n",
      "\n"
     ]
    }
   ],
   "source": [
    "for i in l:\n",
    "    fd = open(str(i),'r')\n",
    "    text = fd.read()\n",
    "    print(text)\n",
    "    fd.close()"
   ]
  },
  {
   "cell_type": "code",
   "execution_count": null,
   "id": "3fe3e17c",
   "metadata": {},
   "outputs": [],
   "source": []
  }
 ],
 "metadata": {
  "kernelspec": {
   "display_name": "Python 3 (ipykernel)",
   "language": "python",
   "name": "python3"
  },
  "language_info": {
   "codemirror_mode": {
    "name": "ipython",
    "version": 3
   },
   "file_extension": ".py",
   "mimetype": "text/x-python",
   "name": "python",
   "nbconvert_exporter": "python",
   "pygments_lexer": "ipython3",
   "version": "3.10.9"
  }
 },
 "nbformat": 4,
 "nbformat_minor": 5
}
