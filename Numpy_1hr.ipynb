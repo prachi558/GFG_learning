{
 "cells": [
  {
   "cell_type": "code",
   "execution_count": 1,
   "id": "5b5348b6",
   "metadata": {},
   "outputs": [],
   "source": [
    "import numpy as np"
   ]
  },
  {
   "cell_type": "code",
   "execution_count": 5,
   "id": "9b37167f",
   "metadata": {},
   "outputs": [
    {
     "data": {
      "text/plain": [
       "numpy.ndarray"
      ]
     },
     "execution_count": 5,
     "metadata": {},
     "output_type": "execute_result"
    }
   ],
   "source": [
    "arr = [1,2,3,4]\n",
    "arr = np.array(arr)\n",
    "type(arr)"
   ]
  },
  {
   "cell_type": "code",
   "execution_count": 8,
   "id": "79c2e55a",
   "metadata": {},
   "outputs": [
    {
     "name": "stdout",
     "output_type": "stream",
     "text": [
      "1\n",
      "3\n",
      "5\n",
      "7\n",
      "9\n"
     ]
    }
   ],
   "source": [
    "for i in np.arange(1,10,2):\n",
    "    print(i)"
   ]
  },
  {
   "cell_type": "code",
   "execution_count": 10,
   "id": "c3cff956",
   "metadata": {},
   "outputs": [
    {
     "data": {
      "text/plain": [
       "array([[1, 2, 3],\n",
       "       [4, 5, 6],\n",
       "       [7, 8, 9]])"
      ]
     },
     "execution_count": 10,
     "metadata": {},
     "output_type": "execute_result"
    }
   ],
   "source": [
    "arr = [[1,2,3],[4,5,6],[7,8,9]]\n",
    "arr = np.array(arr)\n",
    "arr"
   ]
  },
  {
   "cell_type": "code",
   "execution_count": 11,
   "id": "552061fa",
   "metadata": {},
   "outputs": [
    {
     "name": "stdout",
     "output_type": "stream",
     "text": [
      "9\n"
     ]
    }
   ],
   "source": [
    "print(np.size(arr))"
   ]
  },
  {
   "cell_type": "code",
   "execution_count": 12,
   "id": "e2bb72f0",
   "metadata": {},
   "outputs": [
    {
     "name": "stdout",
     "output_type": "stream",
     "text": [
      "(3, 3)\n"
     ]
    }
   ],
   "source": [
    "print(np.shape(arr))"
   ]
  },
  {
   "cell_type": "code",
   "execution_count": 16,
   "id": "e7480ae7",
   "metadata": {},
   "outputs": [
    {
     "name": "stdout",
     "output_type": "stream",
     "text": [
      "[[1 2 3]\n",
      " [4 5 6]]\n",
      "(2, 3)\n"
     ]
    }
   ],
   "source": [
    "arr = [[1,2,3],[4,5,6]]\n",
    "arr = np.array(arr)\n",
    "print(arr)\n",
    "print(np.shape(arr))"
   ]
  },
  {
   "cell_type": "code",
   "execution_count": 21,
   "id": "6a5d9e49",
   "metadata": {},
   "outputs": [
    {
     "name": "stdout",
     "output_type": "stream",
     "text": [
      "[[1 2]\n",
      " [3 4]\n",
      " [5 6]]\n",
      "(3, 2)\n",
      "3\n",
      "2\n"
     ]
    }
   ],
   "source": [
    "arr = np.reshape(arr,(3,2))             \n",
    "print(arr)\n",
    "print(np.shape(arr))\n",
    "print(np.size(arr,0))                    #prints number of rows\n",
    "print(np.size(arr,1))                    #prints number of columns"
   ]
  },
  {
   "cell_type": "code",
   "execution_count": 25,
   "id": "62c7d648",
   "metadata": {},
   "outputs": [
    {
     "name": "stdout",
     "output_type": "stream",
     "text": [
      "int32\n"
     ]
    }
   ],
   "source": [
    "print(arr.dtype)"
   ]
  },
  {
   "cell_type": "code",
   "execution_count": 26,
   "id": "bd3c618e",
   "metadata": {},
   "outputs": [
    {
     "name": "stdout",
     "output_type": "stream",
     "text": [
      "2\n"
     ]
    }
   ],
   "source": [
    "print(arr.ndim)"
   ]
  },
  {
   "cell_type": "code",
   "execution_count": 29,
   "id": "bc38ddee",
   "metadata": {},
   "outputs": [
    {
     "name": "stdout",
     "output_type": "stream",
     "text": [
      "[[0. 0. 0.]\n",
      " [0. 0. 0.]\n",
      " [0. 0. 0.]]\n"
     ]
    }
   ],
   "source": [
    "arr = np.zeros((3,3))\n",
    "print(arr)"
   ]
  },
  {
   "cell_type": "code",
   "execution_count": 32,
   "id": "2e855a63",
   "metadata": {},
   "outputs": [
    {
     "name": "stdout",
     "output_type": "stream",
     "text": [
      "[[1. 1. 1. 1. 1.]\n",
      " [1. 1. 1. 1. 1.]\n",
      " [1. 1. 1. 1. 1.]\n",
      " [1. 1. 1. 1. 1.]]\n"
     ]
    }
   ],
   "source": [
    "arr = np.ones((4,5))\n",
    "print(arr)"
   ]
  },
  {
   "cell_type": "markdown",
   "id": "36f8827c",
   "metadata": {},
   "source": [
    "Eye function : identity vector"
   ]
  },
  {
   "cell_type": "code",
   "execution_count": 34,
   "id": "e4cfa5bd",
   "metadata": {},
   "outputs": [
    {
     "name": "stdout",
     "output_type": "stream",
     "text": [
      "[[1. 0. 0. 0. 0. 0.]\n",
      " [0. 1. 0. 0. 0. 0.]\n",
      " [0. 0. 1. 0. 0. 0.]\n",
      " [0. 0. 0. 1. 0. 0.]\n",
      " [0. 0. 0. 0. 1. 0.]\n",
      " [0. 0. 0. 0. 0. 1.]]\n"
     ]
    }
   ],
   "source": [
    "arr = np.eye(6)\n",
    "print(arr)"
   ]
  },
  {
   "cell_type": "markdown",
   "id": "6c087961",
   "metadata": {},
   "source": [
    "empty function :  same as np.zeros"
   ]
  },
  {
   "cell_type": "code",
   "execution_count": null,
   "id": "899b5e65",
   "metadata": {},
   "outputs": [],
   "source": [
    "------x----x-----x------x-----x----"
   ]
  },
  {
   "cell_type": "markdown",
   "id": "59140e04",
   "metadata": {},
   "source": [
    "random functions"
   ]
  },
  {
   "cell_type": "markdown",
   "id": "22fcf845",
   "metadata": {},
   "source": [
    "1. random.rand : generates random values between 0 and 1"
   ]
  },
  {
   "cell_type": "code",
   "execution_count": 43,
   "id": "df65f39e",
   "metadata": {},
   "outputs": [
    {
     "name": "stdout",
     "output_type": "stream",
     "text": [
      "[0.13910961 0.68213167 0.6615777  0.02259449 0.9665638  0.94001851\n",
      " 0.36977649 0.73011224 0.31315183 0.45958637]\n"
     ]
    }
   ],
   "source": [
    "arr = np.random.rand(10)\n",
    "print(arr)"
   ]
  },
  {
   "cell_type": "markdown",
   "id": "df02f47d",
   "metadata": {},
   "source": [
    "2. random.randint :  it generates values between integer range we define"
   ]
  },
  {
   "cell_type": "code",
   "execution_count": 47,
   "id": "a251eaec",
   "metadata": {},
   "outputs": [
    {
     "name": "stdout",
     "output_type": "stream",
     "text": [
      "[5 8 1 8 9 3 3 7 4 4 5 1 6 8 7]\n"
     ]
    }
   ],
   "source": [
    "arr = np.random.randint(low = 1, high = 10, size = 15)      #10 is not included\n",
    "print(arr)"
   ]
  },
  {
   "cell_type": "markdown",
   "id": "eff07608",
   "metadata": {},
   "source": [
    "3. random.randn : generates random values in a random distribution"
   ]
  },
  {
   "cell_type": "code",
   "execution_count": 49,
   "id": "382a6a7d",
   "metadata": {},
   "outputs": [
    {
     "name": "stdout",
     "output_type": "stream",
     "text": [
      "[ 0.26417952 -0.30491648  0.4407524   1.9163974   0.09200368  0.30674298\n",
      "  0.40481586  0.5990636   1.68171183 -0.96240208]\n"
     ]
    }
   ],
   "source": [
    "arr = np.random.randn(10)\n",
    "print(arr)"
   ]
  },
  {
   "cell_type": "code",
   "execution_count": 51,
   "id": "7df97b42",
   "metadata": {},
   "outputs": [
    {
     "name": "stdout",
     "output_type": "stream",
     "text": [
      "[ 0.          0.52631579  1.05263158  1.57894737  2.10526316  2.63157895\n",
      "  3.15789474  3.68421053  4.21052632  4.73684211  5.26315789  5.78947368\n",
      "  6.31578947  6.84210526  7.36842105  7.89473684  8.42105263  8.94736842\n",
      "  9.47368421 10.        ]\n"
     ]
    }
   ],
   "source": [
    "arr = np.linspace(0,10,20)\n",
    "print(arr)"
   ]
  },
  {
   "cell_type": "code",
   "execution_count": 56,
   "id": "942f764d",
   "metadata": {},
   "outputs": [
    {
     "name": "stdout",
     "output_type": "stream",
     "text": [
      "[1 2 3 4 5 6 7 9 8]\n"
     ]
    }
   ],
   "source": [
    "arr = [[1,2,3],[4,5,6],[7,9,8]]\n",
    "arr = np.array(arr)\n",
    "arr = arr.flatten()\n",
    "print(arr)"
   ]
  },
  {
   "cell_type": "markdown",
   "id": "48c3d805",
   "metadata": {},
   "source": [
    "np.logspace : same as linspace, except it generates value in log scale"
   ]
  },
  {
   "cell_type": "code",
   "execution_count": 58,
   "id": "081c2ef6",
   "metadata": {},
   "outputs": [
    {
     "name": "stdout",
     "output_type": "stream",
     "text": [
      "[1.e+001 1.e+012 1.e+023 1.e+034 1.e+045 1.e+056 1.e+067 1.e+078 1.e+089\n",
      " 1.e+100]\n"
     ]
    }
   ],
   "source": [
    "arr = np.logspace(1,100,10)\n",
    "print(arr)"
   ]
  },
  {
   "cell_type": "code",
   "execution_count": 64,
   "id": "1d5d68d8",
   "metadata": {},
   "outputs": [
    {
     "name": "stdout",
     "output_type": "stream",
     "text": [
      "1\n",
      "[1 4 7]\n",
      "[1 2 3]\n",
      "9\n",
      "[3 6 9]\n",
      "[7 9 8]\n",
      "45\n",
      "[ 6 15 24]\n",
      "[12 16 17]\n"
     ]
    }
   ],
   "source": [
    "arr = [[1,2,3],[4,5,6],[7,9,8]]\n",
    "arr = np.array(arr)\n",
    "print(arr.min())\n",
    "print(arr.min(axis=1))\n",
    "print(arr.min(axis=0))\n",
    "print(arr.max())\n",
    "print(arr.max(axis=1))\n",
    "print(arr.max(axis=0))\n",
    "print(arr.sum())\n",
    "print(arr.sum(axis=1))\n",
    "print(arr.sum(axis=0))"
   ]
  },
  {
   "cell_type": "markdown",
   "id": "79056ecc",
   "metadata": {},
   "source": [
    "seed function : if you write this begore random.randint, you get same random numbers every time that you got the first time, you can take seed as any arbitrary integer, it doesn't matter"
   ]
  },
  {
   "cell_type": "code",
   "execution_count": 66,
   "id": "36754cfa",
   "metadata": {},
   "outputs": [
    {
     "name": "stdout",
     "output_type": "stream",
     "text": [
      "[9 4 9 9 1 6 4 6 8 7 1 5 8 9 2 7 3 3 2 4 6 9 2 9 8 9 2 1 6 5]\n"
     ]
    }
   ],
   "source": [
    "np.random.seed(3)\n",
    "print(np.random.randint(1,10,30))"
   ]
  },
  {
   "cell_type": "markdown",
   "id": "ec148581",
   "metadata": {},
   "source": [
    "Mathemeatical operations : +,-,*,/,//,**"
   ]
  },
  {
   "cell_type": "markdown",
   "id": "1f58a776",
   "metadata": {},
   "source": [
    "Matrix multiplication : arr1.dot(arr2) > arr1 . arr2"
   ]
  },
  {
   "cell_type": "markdown",
   "id": "5795b404",
   "metadata": {},
   "source": [
    "Percentile function : you need to sort the array before using percentile"
   ]
  },
  {
   "cell_type": "code",
   "execution_count": 78,
   "id": "ee823e91",
   "metadata": {},
   "outputs": [
    {
     "name": "stdout",
     "output_type": "stream",
     "text": [
      "[ 1  1  4  4  5  6  6  7  8  8  9  9  9  9 10 10 10 11 11 11]\n",
      "9.299999999999999\n"
     ]
    }
   ],
   "source": [
    "np.random.seed(3)\n",
    "arr = np.array(np.random.randint(1,12,20))\n",
    "arr = np.sort(arr)\n",
    "print(arr)\n",
    "print(np.percentile(arr,70))"
   ]
  },
  {
   "cell_type": "markdown",
   "id": "58282e8e",
   "metadata": {},
   "source": [
    "mean, variance and standard deviation"
   ]
  },
  {
   "cell_type": "code",
   "execution_count": 79,
   "id": "d716b849",
   "metadata": {},
   "outputs": [
    {
     "name": "stdout",
     "output_type": "stream",
     "text": [
      "7.45\n",
      "9.247499999999999\n",
      "3.0409702399069936\n"
     ]
    }
   ],
   "source": [
    "print(np.mean(arr))\n",
    "print(np.var(arr))\n",
    "print(np.std(arr))"
   ]
  },
  {
   "cell_type": "markdown",
   "id": "77f1585b",
   "metadata": {},
   "source": [
    "filtering array"
   ]
  },
  {
   "cell_type": "code",
   "execution_count": 87,
   "id": "6aa720ce",
   "metadata": {},
   "outputs": [
    {
     "name": "stdout",
     "output_type": "stream",
     "text": [
      "[ 2  4  6  8 10 12 14 16 18]\n",
      "[ 1  3  5  7  9 11 13 15 17 19]\n",
      "[11 12 13 14 15 16 17 18 19]\n"
     ]
    }
   ],
   "source": [
    "arr = np.arange(1,20)\n",
    "print(arr[arr%2==0])\n",
    "print(arr[arr%2!=0])\n",
    "print(arr[arr>10])"
   ]
  },
  {
   "cell_type": "markdown",
   "id": "2f0f314d",
   "metadata": {},
   "source": [
    "replacing the elements that don't satisfy the condition with something else, eg. replace odd numbers with zeros"
   ]
  },
  {
   "cell_type": "code",
   "execution_count": 89,
   "id": "e134c850",
   "metadata": {},
   "outputs": [
    {
     "name": "stdout",
     "output_type": "stream",
     "text": [
      "[ 0  2  0  4  0  6  0  8  0 10  0 12  0 14  0 16  0 18  0]\n"
     ]
    }
   ],
   "source": [
    "arr[arr%2!=0] = 0\n",
    "print(arr)"
   ]
  },
  {
   "cell_type": "markdown",
   "id": "1a7e5c3c",
   "metadata": {},
   "source": [
    "Transpose function"
   ]
  },
  {
   "cell_type": "code",
   "execution_count": 93,
   "id": "403aaf52",
   "metadata": {},
   "outputs": [
    {
     "name": "stdout",
     "output_type": "stream",
     "text": [
      "[[ 9 16 14]\n",
      " [ 9 12 19]]\n",
      "[[ 9  9]\n",
      " [16 12]\n",
      " [14 19]]\n"
     ]
    }
   ],
   "source": [
    "np.random.seed(2)\n",
    "arr = np.random.randint(1,20,(2,3))\n",
    "print(arr)\n",
    "print(arr.T)     #transpose"
   ]
  },
  {
   "cell_type": "markdown",
   "id": "da7a01f5",
   "metadata": {},
   "source": [
    "where function : it is similar to filtering an array, just using where function"
   ]
  },
  {
   "cell_type": "code",
   "execution_count": 128,
   "id": "3e881a53",
   "metadata": {},
   "outputs": [
    {
     "name": "stdout",
     "output_type": "stream",
     "text": [
      "<class 'numpy.ndarray'>\n"
     ]
    }
   ],
   "source": [
    "arr = [1,3,5,4,6,7,9,8]\n",
    "arr = np.array(arr)\n",
    "print(type(arr))"
   ]
  },
  {
   "cell_type": "code",
   "execution_count": null,
   "id": "f2abe557",
   "metadata": {},
   "outputs": [],
   "source": [
    "----x----x-----x----x-----x----"
   ]
  },
  {
   "cell_type": "markdown",
   "id": "14dbde11",
   "metadata": {},
   "source": []
  },
  {
   "cell_type": "code",
   "execution_count": 138,
   "id": "385918e8",
   "metadata": {},
   "outputs": [],
   "source": [
    "from matplotlib.image import imread"
   ]
  },
  {
   "cell_type": "code",
   "execution_count": 141,
   "id": "6c0f0250",
   "metadata": {},
   "outputs": [],
   "source": [
    "img  = imread(\"Pic_to array.jpg\")"
   ]
  },
  {
   "cell_type": "code",
   "execution_count": null,
   "id": "cbee4dce",
   "metadata": {},
   "outputs": [],
   "source": []
  }
 ],
 "metadata": {
  "kernelspec": {
   "display_name": "Python 3 (ipykernel)",
   "language": "python",
   "name": "python3"
  },
  "language_info": {
   "codemirror_mode": {
    "name": "ipython",
    "version": 3
   },
   "file_extension": ".py",
   "mimetype": "text/x-python",
   "name": "python",
   "nbconvert_exporter": "python",
   "pygments_lexer": "ipython3",
   "version": "3.10.9"
  }
 },
 "nbformat": 4,
 "nbformat_minor": 5
}
